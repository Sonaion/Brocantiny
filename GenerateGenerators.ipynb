{
 "cells": [
  {
   "cell_type": "code",
   "execution_count": 25,
   "metadata": {},
   "outputs": [],
   "source": [
    "import json\n",
    "import os"
   ]
  },
  {
   "cell_type": "code",
   "execution_count": 28,
   "metadata": {},
   "outputs": [],
   "source": [
    "data_template = {\n",
    "    \"font-normal\": \"JetBrainsMono-Regular.ttf\",\n",
    "    \"font-bold\": \"JetBrainsMono-Bold.ttf\",\n",
    "    \"font-italic\": \"JetBrainsMono-BoldItalic.ttf\",\n",
    "    \"font-bold-italic\": \"JetBrainsMono-Italic.ttf\",\n",
    "    \"font-size\": 16,\n",
    "    \"width-margin\": 5,\n",
    "    \"height-margin\": 5,\n",
    "    \"spacing\": 1,\n",
    "    \"background-color\": [245, 245, 245],\n",
    "}"
   ]
  },
  {
   "cell_type": "code",
   "execution_count": 30,
   "metadata": {},
   "outputs": [],
   "source": [
    "source_folder = os.getcwd() + \"\\\\CodeSnippets\\\\Source\"\n",
    "generator_folder = os.getcwd() + \"\\\\CodeSnippets\\\\Generators\"\n",
    "files = os.listdir(source_folder)\n",
    "\n",
    "data_dict = {}\n",
    "for file in files:\n",
    "    filename, _file_extension = os.path.splitext(file)\n",
    "    file_data = open(source_folder + \"\\\\\" + file, \"r\")\n",
    "    file_data = file_data.read()\n",
    "    file_data_splitted = file_data.split(\"\\n\")\n",
    "\n",
    "    data_dict[filename] = [file_data_splitted]\n",
    "\n",
    "for key, value_array in data_dict.items():\n",
    "    data_dict = []\n",
    "    for value in value_array:\n",
    "        template = data_template.copy()\n",
    "        template[\"source-code\"] = value\n",
    "        data_dict.append(template)\n",
    "\n",
    "    name_postfixes = [\"\"]\n",
    "    for idx, data in enumerate(data_dict):\n",
    "        name = key + name_postfixes[idx] + \".json\"\n",
    "        file_data = json.dumps(data, indent=4, separators=(\",\", \": \"))\n",
    "        f = open(generator_folder + \"\\\\\" + name, \"w\")\n",
    "        f.write(file_data)\n",
    "        f.close()"
   ]
  },
  {
   "cell_type": "code",
   "execution_count": null,
   "metadata": {},
   "outputs": [],
   "source": []
  }
 ],
 "metadata": {
  "kernelspec": {
   "display_name": "Python 3",
   "language": "python",
   "name": "python3"
  },
  "language_info": {
   "codemirror_mode": {
    "name": "ipython",
    "version": 3
   },
   "file_extension": ".py",
   "mimetype": "text/x-python",
   "name": "python",
   "nbconvert_exporter": "python",
   "pygments_lexer": "ipython3",
   "version": "3.8.8"
  }
 },
 "nbformat": 4,
 "nbformat_minor": 4
}
