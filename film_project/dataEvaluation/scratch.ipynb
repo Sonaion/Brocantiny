{
 "cells": [
  {
   "cell_type": "markdown",
   "id": "e5b0b9bc-9a85-4521-8210-9e1ef92c238c",
   "metadata": {},
   "source": [
    "<h2> Load Data</h2>"
   ]
  },
  {
   "cell_type": "code",
   "execution_count": 30,
   "id": "81dc01b0-3756-4775-a258-f1a956ae9599",
   "metadata": {},
   "outputs": [],
   "source": [
    "import warnings\n",
    "import matplotlib.pyplot as plt\n",
    "import preparers\n",
    "import json\n",
    "import numpy as np\n",
    "import pandas as pd\n",
    "import os\n",
    "import preparers\n",
    "import sonaion_analysis as son\n",
    "import GenSnippetsLib as snippet\n",
    "from pandas.core.common import SettingWithCopyWarning\n",
    "from PIL import Image\n",
    "\n",
    "warnings.simplefilter(action=\"ignore\", category=SettingWithCopyWarning)"
   ]
  },
  {
   "cell_type": "code",
   "execution_count": 31,
   "outputs": [],
   "source": [
    "display_width = 1920\n",
    "display_height = 1080\n",
    "denoise_degree = 10\n",
    "left_color = (0.0, 1.0, 1.0)\n",
    "right_color = (0.0, 1.0, 0.0)"
   ],
   "metadata": {
    "collapsed": false,
    "pycharm": {
     "name": "#%%\n"
    }
   }
  },
  {
   "cell_type": "code",
   "execution_count": 23,
   "id": "9e48d263-899b-4295-b8c4-133cb4324147",
   "metadata": {},
   "outputs": [],
   "source": [
    "df_psycho, df_eyetracking = preparers.load_raw(1)"
   ]
  },
  {
   "cell_type": "code",
   "execution_count": 32,
   "outputs": [],
   "source": [
    "def create_3_snippet(top_right, bottom_right, left, display_width, display_height):\n",
    "    bg = snippet.create_background(display_width, display_height, (180, 180, 180, 255))\n",
    "    top_right = Image.open(top_right)\n",
    "    bottom_right = Image.open(bottom_right)\n",
    "    left = Image.open(left)\n",
    "\n",
    "    img = snippet.place_image_on(bg, np.array(left), 0.3, 0.5)\n",
    "    img = snippet.place_image_on(img, np.array(top_right), 0.7, 0.7)\n",
    "    img = snippet.place_image_on(img, np.array(bottom_right), 0.7, 0.3)\n",
    "\n",
    "    return img\n",
    "\n",
    "def create_1_snipper(image, display_width, display_height):\n",
    "    bg = snippet.create_background(display_width, display_height, (180, 180, 180, 255))\n",
    "    image = Image.open(image)\n",
    "\n",
    "    img = snippet.place_image_on(bg, np.array(image), 0.5, 0.5)\n",
    "    return img"
   ],
   "metadata": {
    "collapsed": false,
    "pycharm": {
     "name": "#%%\n"
    }
   }
  },
  {
   "cell_type": "code",
   "execution_count": 33,
   "outputs": [],
   "source": [
    "images = {}\n",
    "images[\"BE\"] = create_3_snippet(\"./images/Brokantiny.PNG\", \"./images/BrocantinyErklärung.png\", \"./images/BrocantinyBeispiel.png\", display_width, display_height)\n",
    "images[\"B1\"] = create_3_snippet(\"./images/Brokantiny.PNG\", \"./images/BrocantinyErklärung.png\", \"./images/Brocantiny1.png\", display_width, display_height)\n",
    "images[\"B2\"] = create_3_snippet(\"./images/Brokantiny.PNG\", \"./images/BrocantinyErklärung.png\", \"./images/Brocantiny2.png\", display_width, display_height)\n",
    "images[\"B3\"] = create_3_snippet(\"./images/Brokantiny.PNG\", \"./images/BrocantinyErklärung.png\", \"./images/Brocantiny3.png\", display_width, display_height)\n",
    "images[\"B4\"] = create_3_snippet(\"./images/Brokantiny.PNG\", \"./images/BrocantinyErklärung.png\", \"./images/Brocantiny4.png\", display_width, display_height)\n",
    "\n",
    "images[\"PE\"] = create_3_snippet(\"./images/Brokantiny.PNG\", \"./images/ProgrammErklärung.png\", \"./images/ProgrammErklärung.png\", display_width, display_height)\n",
    "images[\"P1\"] = create_3_snippet(\"./images/Brokantiny.PNG\", \"./images/ProgrammErklärung.png\", \"./images/Programm1.png\", display_width, display_height)\n",
    "images[\"P2\"] = create_3_snippet(\"./images/Brokantiny.PNG\", \"./images/ProgrammErklärung.png\", \"./images/Programm2.png\", display_width, display_height)\n",
    "images[\"P3\"] = create_3_snippet(\"./images/Brokantiny.PNG\", \"./images/ProgrammErklärung.png\", \"./images/Programm3.png\", display_width, display_height)\n",
    "images[\"P4\"] = create_3_snippet(\"./images/Brokantiny.PNG\", \"./images/ProgrammErklärung.png\", \"./images/Programm4.png\", display_width, display_height)\n",
    "\n",
    "images[\"S1\"] = create_1_snipper(\"./images/Satz1.png\", display_width, display_height)\n",
    "images[\"S1\"] = create_1_snipper(\"./images/Satz2.png\", display_width, display_height)\n",
    "images[\"S1\"] = create_1_snipper(\"./images/Satz3.png\", display_width, display_height)"
   ],
   "metadata": {
    "collapsed": false,
    "pycharm": {
     "name": "#%%\n"
    }
   }
  },
  {
   "cell_type": "code",
   "execution_count": 34,
   "outputs": [],
   "source": [
    "def update_names(df_eyetracking, name_dict):\n",
    "    df_eyetracking = df_eyetracking.rename(columns=name_dict)\n",
    "    return df_eyetracking"
   ],
   "metadata": {
    "collapsed": false,
    "pycharm": {
     "name": "#%%\n"
    }
   }
  },
  {
   "cell_type": "code",
   "execution_count": 35,
   "outputs": [],
   "source": [
    "def update_to_display_coordinates(df_eyetracking):\n",
    "    df_eyetracking[\"display_x\"] = df_eyetracking[\"display_x\"].apply(lambda x: x * display_width)\n",
    "    df_eyetracking[\"display_x\"] = df_eyetracking[\"display_x\"].astype(float).fillna(0).astype(int)\n",
    "\n",
    "    df_eyetracking[\"display_y\"] = df_eyetracking[\"display_y\"].apply(lambda x: x * display_height)\n",
    "    df_eyetracking[\"display_y\"] = df_eyetracking[\"display_y\"].astype(float).fillna(0).astype(int)\n",
    "    return df_eyetracking"
   ],
   "metadata": {
    "collapsed": false,
    "pycharm": {
     "name": "#%%\n"
    }
   }
  },
  {
   "cell_type": "code",
   "execution_count": 62,
   "outputs": [],
   "source": [
    "def update_normalize_time(df_eyetracking):\n",
    "    df_eyetracking[\"time\"] = df_eyetracking[\"time\"] - df_eyetracking[\"time\"][0]\n",
    "    return df_eyetracking"
   ],
   "metadata": {
    "collapsed": false,
    "pycharm": {
     "name": "#%%\n"
    }
   }
  },
  {
   "cell_type": "code",
   "execution_count": 63,
   "outputs": [],
   "source": [
    "def update_replace_invalid(df_eyetracking):\n",
    "    (\n",
    "        replaced_x,\n",
    "        replaced_y,\n",
    "        _replaced_diameter,\n",
    "        replaced_valid,\n",
    "    ) = son.eyetracking.preprocessing_invalid.replace_with_prev_invalid(\n",
    "        df_eyetracking[\"display_x\"],\n",
    "        df_eyetracking[\"display_y\"],\n",
    "        df_eyetracking[\"display_x\"],\n",
    "        df_eyetracking[\"valid\"],\n",
    "    )\n",
    "\n",
    "    df_eyetracking[\"display_x\"] = replaced_x\n",
    "    df_eyetracking[\"display_y\"] = replaced_y\n",
    "    df_eyetracking[\"valid\"] = replaced_valid\n",
    "    return df_eyetracking"
   ],
   "metadata": {
    "collapsed": false,
    "pycharm": {
     "name": "#%%\n"
    }
   }
  },
  {
   "cell_type": "code",
   "execution_count": 64,
   "outputs": [],
   "source": [
    "def update_denoise(df_eyetracking, denoise_degree):\n",
    "    for _i in range(denoise_degree):\n",
    "        denoised_x, denoised_y = son.eyetracking.preprocessing_denoise.denoise(\n",
    "            df_eyetracking[\"display_x\"],\n",
    "            df_eyetracking[\"display_y\"],\n",
    "            son.eyetracking.preprocessing_denoise.parabola_5_kernel,\n",
    "        )\n",
    "\n",
    "        df_eyetracking[\"display_x\"] = denoised_x\n",
    "        df_eyetracking[\"display_y\"] = denoised_y\n",
    "    return df_eyetracking"
   ],
   "metadata": {
    "collapsed": false,
    "pycharm": {
     "name": "#%%\n"
    }
   }
  },
  {
   "cell_type": "code",
   "execution_count": 65,
   "outputs": [],
   "source": [
    "def update_match_to_line(df_eyetracking, line_middle, cat):\n",
    "    df_eyetracking[\"display_y\"] =  df_eyetracking[\"display_y\"].apply(lambda x: line_middle[cat[x]] if cat[x] is not None else float(\"Nan\"))\n",
    "    df_eyetracking = df_eyetracking[df_eyetracking[\"display_y\"].notnull()]\n",
    "    df_eyetracking[\"display_y\"] = df_eyetracking[\"display_y\"].astype(int)\n",
    "    df_eyetracking = df_eyetracking.reset_index()\n",
    "    return df_eyetracking"
   ],
   "metadata": {
    "collapsed": false,
    "pycharm": {
     "name": "#%%\n"
    }
   }
  },
  {
   "cell_type": "code",
   "execution_count": 66,
   "outputs": [],
   "source": [
    "def mask_function():\n",
    "    return lambda height, width, coordinate: son.utils.masks.create_circular_mask(height, width, coordinate, 30)\n",
    "\n",
    "def create_heatmap(df_eyetracking, color, width, height):\n",
    "    heat_data = son.eyetracking.heatmap.create_heatmap(\n",
    "        df_eyetracking[\"display_x\"],\n",
    "        df_eyetracking[\"display_y\"],\n",
    "        df_eyetracking[\"valid\"],\n",
    "        0.004,\n",
    "        height,\n",
    "        width,\n",
    "        mask_function(),\n",
    "    )\n",
    "\n",
    "    heat_data = heat_data / heat_data.max()\n",
    "    heat_data = np.array([heat_data * color[0], heat_data * color[1], heat_data * color[2], heat_data])\n",
    "    heat_data = np.moveaxis(heat_data, 0, 2)\n",
    "    return heat_data"
   ],
   "metadata": {
    "collapsed": false,
    "pycharm": {
     "name": "#%%\n"
    }
   }
  },
  {
   "cell_type": "code",
   "execution_count": 67,
   "outputs": [],
   "source": [
    "def create_sequence_diagram(df_eyetracking, color, width, height, max_pixel):\n",
    "    step_size = max_pixel/len(df_eyetracking)\n",
    "\n",
    "    sequence_data = son.eyetracking.sequence.create_sequence_diagram_y(\n",
    "        df_eyetracking[\"display_y\"],\n",
    "        df_eyetracking[\"valid\"],\n",
    "        height,\n",
    "        width,\n",
    "        offset=0,\n",
    "        step=step_size,\n",
    "        should_skip=False,\n",
    "    )\n",
    "    sequence_data = np.array([sequence_data * color[0], sequence_data * color[1], sequence_data * color[2], sequence_data])\n",
    "    sequence_data = np.moveaxis(sequence_data, 0, 2)\n",
    "    return sequence_data"
   ],
   "metadata": {
    "collapsed": false,
    "pycharm": {
     "name": "#%%\n"
    }
   }
  },
  {
   "cell_type": "code",
   "execution_count": 70,
   "id": "6e789902-fa86-40ee-af55-6dfda9fc0f09",
   "metadata": {
    "pycharm": {
     "name": "#%%\n"
    }
   },
   "outputs": [
    {
     "name": "stdout",
     "output_type": "stream",
     "text": [
      "Working with B1 ...\n",
      "\t Left Eye ...\n",
      "5.020277\n",
      "\t Right Eye ...\n",
      "5.020277\n",
      "Working with B2 ...\n",
      "\t Left Eye ...\n",
      "6.236307\n",
      "\t Right Eye ...\n",
      "6.236307\n",
      "Working with B3 ...\n",
      "\t Left Eye ...\n",
      "7.456341\n",
      "\t Right Eye ...\n",
      "7.456341\n",
      "Working with B4 ...\n",
      "\t Left Eye ...\n",
      "8.372373\n",
      "\t Right Eye ...\n",
      "8.372373\n"
     ]
    },
    {
     "ename": "KeyboardInterrupt",
     "evalue": "",
     "output_type": "error",
     "traceback": [
      "\u001B[1;31m---------------------------------------------------------------------------\u001B[0m",
      "\u001B[1;31mKeyboardInterrupt\u001B[0m                         Traceback (most recent call last)",
      "\u001B[1;32m<ipython-input-70-ded65da15b3b>\u001B[0m in \u001B[0;36m<module>\u001B[1;34m\u001B[0m\n\u001B[0;32m     25\u001B[0m         \u001B[0mdf_eye_tmp\u001B[0m \u001B[1;33m=\u001B[0m \u001B[0mupdate_denoise\u001B[0m\u001B[1;33m(\u001B[0m\u001B[0mdf_eye_tmp\u001B[0m\u001B[1;33m,\u001B[0m \u001B[0mdenoise_degree\u001B[0m\u001B[1;33m)\u001B[0m\u001B[1;33m\u001B[0m\u001B[1;33m\u001B[0m\u001B[0m\n\u001B[0;32m     26\u001B[0m \u001B[1;33m\u001B[0m\u001B[0m\n\u001B[1;32m---> 27\u001B[1;33m         \u001B[0mheat_mask\u001B[0m \u001B[1;33m=\u001B[0m \u001B[0mcreate_heatmap\u001B[0m\u001B[1;33m(\u001B[0m\u001B[0mdf_eye_tmp\u001B[0m\u001B[1;33m,\u001B[0m \u001B[0mcolor\u001B[0m\u001B[1;33m,\u001B[0m \u001B[0mdisplay_width\u001B[0m\u001B[1;33m,\u001B[0m \u001B[0mdisplay_height\u001B[0m\u001B[1;33m)\u001B[0m\u001B[1;33m\u001B[0m\u001B[1;33m\u001B[0m\u001B[0m\n\u001B[0m\u001B[0;32m     28\u001B[0m         \u001B[0msequence_mask\u001B[0m \u001B[1;33m=\u001B[0m \u001B[0mcreate_sequence_diagram\u001B[0m\u001B[1;33m(\u001B[0m\u001B[0mdf_eye_tmp\u001B[0m\u001B[1;33m,\u001B[0m \u001B[0mcolor\u001B[0m\u001B[1;33m,\u001B[0m \u001B[0mdisplay_width\u001B[0m\u001B[1;33m,\u001B[0m \u001B[0mdisplay_height\u001B[0m\u001B[1;33m,\u001B[0m \u001B[1;36m500\u001B[0m\u001B[1;33m)\u001B[0m\u001B[1;33m\u001B[0m\u001B[1;33m\u001B[0m\u001B[0m\n\u001B[0;32m     29\u001B[0m \u001B[1;33m\u001B[0m\u001B[0m\n",
      "\u001B[1;32m<ipython-input-66-3b169bb76501>\u001B[0m in \u001B[0;36mcreate_heatmap\u001B[1;34m(df_eyetracking, color, width, height)\u001B[0m\n\u001B[0;32m      3\u001B[0m \u001B[1;33m\u001B[0m\u001B[0m\n\u001B[0;32m      4\u001B[0m \u001B[1;32mdef\u001B[0m \u001B[0mcreate_heatmap\u001B[0m\u001B[1;33m(\u001B[0m\u001B[0mdf_eyetracking\u001B[0m\u001B[1;33m,\u001B[0m \u001B[0mcolor\u001B[0m\u001B[1;33m,\u001B[0m \u001B[0mwidth\u001B[0m\u001B[1;33m,\u001B[0m \u001B[0mheight\u001B[0m\u001B[1;33m)\u001B[0m\u001B[1;33m:\u001B[0m\u001B[1;33m\u001B[0m\u001B[1;33m\u001B[0m\u001B[0m\n\u001B[1;32m----> 5\u001B[1;33m     heat_data = son.eyetracking.heatmap.create_heatmap(\n\u001B[0m\u001B[0;32m      6\u001B[0m         \u001B[0mdf_eyetracking\u001B[0m\u001B[1;33m[\u001B[0m\u001B[1;34m\"display_x\"\u001B[0m\u001B[1;33m]\u001B[0m\u001B[1;33m,\u001B[0m\u001B[1;33m\u001B[0m\u001B[1;33m\u001B[0m\u001B[0m\n\u001B[0;32m      7\u001B[0m         \u001B[0mdf_eyetracking\u001B[0m\u001B[1;33m[\u001B[0m\u001B[1;34m\"display_y\"\u001B[0m\u001B[1;33m]\u001B[0m\u001B[1;33m,\u001B[0m\u001B[1;33m\u001B[0m\u001B[1;33m\u001B[0m\u001B[0m\n",
      "\u001B[1;32m~\\anaconda3\\lib\\site-packages\\sonaion_analysis\\eyetracking\\heatmap.py\u001B[0m in \u001B[0;36mcreate_heatmap\u001B[1;34m(eye_x, eye_y, eye_valid, d_time, height, width, mask_function)\u001B[0m\n\u001B[0;32m     27\u001B[0m             \u001B[1;32mif\u001B[0m \u001B[0mx_prev\u001B[0m \u001B[1;33m!=\u001B[0m \u001B[0mx\u001B[0m \u001B[1;32mor\u001B[0m \u001B[0my_prev\u001B[0m \u001B[1;33m!=\u001B[0m \u001B[0my\u001B[0m\u001B[1;33m:\u001B[0m\u001B[1;33m\u001B[0m\u001B[1;33m\u001B[0m\u001B[0m\n\u001B[0;32m     28\u001B[0m                 \u001B[1;32mcontinue\u001B[0m\u001B[1;33m\u001B[0m\u001B[1;33m\u001B[0m\u001B[0m\n\u001B[1;32m---> 29\u001B[1;33m             \u001B[0mmask\u001B[0m \u001B[1;33m=\u001B[0m \u001B[0mmask_function\u001B[0m\u001B[1;33m(\u001B[0m\u001B[0mheight\u001B[0m\u001B[1;33m,\u001B[0m \u001B[0mwidth\u001B[0m\u001B[1;33m,\u001B[0m \u001B[1;33m(\u001B[0m\u001B[0mx\u001B[0m\u001B[1;33m,\u001B[0m \u001B[0my\u001B[0m\u001B[1;33m)\u001B[0m\u001B[1;33m)\u001B[0m\u001B[1;33m\u001B[0m\u001B[1;33m\u001B[0m\u001B[0m\n\u001B[0m\u001B[0;32m     30\u001B[0m             \u001B[0mhmap\u001B[0m\u001B[1;33m[\u001B[0m\u001B[0mmask\u001B[0m\u001B[1;33m]\u001B[0m \u001B[1;33m+=\u001B[0m \u001B[0mheat\u001B[0m\u001B[1;33m[\u001B[0m\u001B[0mmask\u001B[0m\u001B[1;33m]\u001B[0m\u001B[1;33m\u001B[0m\u001B[1;33m\u001B[0m\u001B[0m\n\u001B[0;32m     31\u001B[0m     \u001B[1;32mreturn\u001B[0m \u001B[0mhmap\u001B[0m\u001B[1;33m\u001B[0m\u001B[1;33m\u001B[0m\u001B[0m\n",
      "\u001B[1;32m<ipython-input-66-3b169bb76501>\u001B[0m in \u001B[0;36m<lambda>\u001B[1;34m(height, width, coordinate)\u001B[0m\n\u001B[0;32m      1\u001B[0m \u001B[1;32mdef\u001B[0m \u001B[0mmask_function\u001B[0m\u001B[1;33m(\u001B[0m\u001B[1;33m)\u001B[0m\u001B[1;33m:\u001B[0m\u001B[1;33m\u001B[0m\u001B[1;33m\u001B[0m\u001B[0m\n\u001B[1;32m----> 2\u001B[1;33m     \u001B[1;32mreturn\u001B[0m \u001B[1;32mlambda\u001B[0m \u001B[0mheight\u001B[0m\u001B[1;33m,\u001B[0m \u001B[0mwidth\u001B[0m\u001B[1;33m,\u001B[0m \u001B[0mcoordinate\u001B[0m\u001B[1;33m:\u001B[0m \u001B[0mson\u001B[0m\u001B[1;33m.\u001B[0m\u001B[0mutils\u001B[0m\u001B[1;33m.\u001B[0m\u001B[0mmasks\u001B[0m\u001B[1;33m.\u001B[0m\u001B[0mcreate_circular_mask\u001B[0m\u001B[1;33m(\u001B[0m\u001B[0mheight\u001B[0m\u001B[1;33m,\u001B[0m \u001B[0mwidth\u001B[0m\u001B[1;33m,\u001B[0m \u001B[0mcoordinate\u001B[0m\u001B[1;33m,\u001B[0m \u001B[1;36m30\u001B[0m\u001B[1;33m)\u001B[0m\u001B[1;33m\u001B[0m\u001B[1;33m\u001B[0m\u001B[0m\n\u001B[0m\u001B[0;32m      3\u001B[0m \u001B[1;33m\u001B[0m\u001B[0m\n\u001B[0;32m      4\u001B[0m \u001B[1;32mdef\u001B[0m \u001B[0mcreate_heatmap\u001B[0m\u001B[1;33m(\u001B[0m\u001B[0mdf_eyetracking\u001B[0m\u001B[1;33m,\u001B[0m \u001B[0mcolor\u001B[0m\u001B[1;33m,\u001B[0m \u001B[0mwidth\u001B[0m\u001B[1;33m,\u001B[0m \u001B[0mheight\u001B[0m\u001B[1;33m)\u001B[0m\u001B[1;33m:\u001B[0m\u001B[1;33m\u001B[0m\u001B[1;33m\u001B[0m\u001B[0m\n\u001B[0;32m      5\u001B[0m     heat_data = son.eyetracking.heatmap.create_heatmap(\n",
      "\u001B[1;32m~\\anaconda3\\lib\\site-packages\\sonaion_analysis\\utils\\masks.py\u001B[0m in \u001B[0;36mcreate_circular_mask\u001B[1;34m(height, width, center, radius)\u001B[0m\n\u001B[0;32m     27\u001B[0m     \u001B[0mX\u001B[0m \u001B[1;33m=\u001B[0m \u001B[0mX\u001B[0m\u001B[1;33m[\u001B[0m\u001B[1;33m:\u001B[0m\u001B[1;33m,\u001B[0m \u001B[0mx_low\u001B[0m\u001B[1;33m:\u001B[0m\u001B[0mx_high\u001B[0m\u001B[1;33m]\u001B[0m\u001B[1;33m\u001B[0m\u001B[1;33m\u001B[0m\u001B[0m\n\u001B[0;32m     28\u001B[0m     \u001B[0mY\u001B[0m \u001B[1;33m=\u001B[0m \u001B[0mY\u001B[0m\u001B[1;33m[\u001B[0m\u001B[0my_low\u001B[0m\u001B[1;33m:\u001B[0m\u001B[0my_high\u001B[0m\u001B[1;33m]\u001B[0m\u001B[1;33m\u001B[0m\u001B[1;33m\u001B[0m\u001B[0m\n\u001B[1;32m---> 29\u001B[1;33m     \u001B[0mdist_from_center\u001B[0m \u001B[1;33m=\u001B[0m \u001B[0mnp\u001B[0m\u001B[1;33m.\u001B[0m\u001B[0mfull\u001B[0m\u001B[1;33m(\u001B[0m\u001B[1;33m[\u001B[0m\u001B[0mheight\u001B[0m\u001B[1;33m,\u001B[0m \u001B[0mwidth\u001B[0m\u001B[1;33m]\u001B[0m\u001B[1;33m,\u001B[0m \u001B[0mradius\u001B[0m \u001B[1;33m+\u001B[0m \u001B[1;36m1\u001B[0m\u001B[1;33m)\u001B[0m\u001B[1;33m\u001B[0m\u001B[1;33m\u001B[0m\u001B[0m\n\u001B[0m\u001B[0;32m     30\u001B[0m     \u001B[0mdist_from_center\u001B[0m\u001B[1;33m[\u001B[0m\u001B[0my_low\u001B[0m\u001B[1;33m:\u001B[0m\u001B[0my_high\u001B[0m\u001B[1;33m,\u001B[0m \u001B[0mx_low\u001B[0m\u001B[1;33m:\u001B[0m\u001B[0mx_high\u001B[0m\u001B[1;33m]\u001B[0m \u001B[1;33m=\u001B[0m \u001B[0mnp\u001B[0m\u001B[1;33m.\u001B[0m\u001B[0msqrt\u001B[0m\u001B[1;33m(\u001B[0m\u001B[1;33m(\u001B[0m\u001B[0mX\u001B[0m \u001B[1;33m-\u001B[0m \u001B[0mcenter\u001B[0m\u001B[1;33m[\u001B[0m\u001B[1;36m0\u001B[0m\u001B[1;33m]\u001B[0m\u001B[1;33m)\u001B[0m \u001B[1;33m**\u001B[0m \u001B[1;36m2\u001B[0m \u001B[1;33m+\u001B[0m \u001B[1;33m(\u001B[0m\u001B[0mY\u001B[0m \u001B[1;33m-\u001B[0m \u001B[0mcenter\u001B[0m\u001B[1;33m[\u001B[0m\u001B[1;36m1\u001B[0m\u001B[1;33m]\u001B[0m\u001B[1;33m)\u001B[0m \u001B[1;33m**\u001B[0m \u001B[1;36m2\u001B[0m\u001B[1;33m)\u001B[0m\u001B[1;33m\u001B[0m\u001B[1;33m\u001B[0m\u001B[0m\n\u001B[0;32m     31\u001B[0m \u001B[1;33m\u001B[0m\u001B[0m\n",
      "\u001B[1;32m~\\anaconda3\\lib\\site-packages\\numpy\\core\\numeric.py\u001B[0m in \u001B[0;36mfull\u001B[1;34m(shape, fill_value, dtype, order, like)\u001B[0m\n\u001B[0;32m    341\u001B[0m         \u001B[0mdtype\u001B[0m \u001B[1;33m=\u001B[0m \u001B[0mfill_value\u001B[0m\u001B[1;33m.\u001B[0m\u001B[0mdtype\u001B[0m\u001B[1;33m\u001B[0m\u001B[1;33m\u001B[0m\u001B[0m\n\u001B[0;32m    342\u001B[0m     \u001B[0ma\u001B[0m \u001B[1;33m=\u001B[0m \u001B[0mempty\u001B[0m\u001B[1;33m(\u001B[0m\u001B[0mshape\u001B[0m\u001B[1;33m,\u001B[0m \u001B[0mdtype\u001B[0m\u001B[1;33m,\u001B[0m \u001B[0morder\u001B[0m\u001B[1;33m)\u001B[0m\u001B[1;33m\u001B[0m\u001B[1;33m\u001B[0m\u001B[0m\n\u001B[1;32m--> 343\u001B[1;33m     \u001B[0mmultiarray\u001B[0m\u001B[1;33m.\u001B[0m\u001B[0mcopyto\u001B[0m\u001B[1;33m(\u001B[0m\u001B[0ma\u001B[0m\u001B[1;33m,\u001B[0m \u001B[0mfill_value\u001B[0m\u001B[1;33m,\u001B[0m \u001B[0mcasting\u001B[0m\u001B[1;33m=\u001B[0m\u001B[1;34m'unsafe'\u001B[0m\u001B[1;33m)\u001B[0m\u001B[1;33m\u001B[0m\u001B[1;33m\u001B[0m\u001B[0m\n\u001B[0m\u001B[0;32m    344\u001B[0m     \u001B[1;32mreturn\u001B[0m \u001B[0ma\u001B[0m\u001B[1;33m\u001B[0m\u001B[1;33m\u001B[0m\u001B[0m\n\u001B[0;32m    345\u001B[0m \u001B[1;33m\u001B[0m\u001B[0m\n",
      "\u001B[1;32m<__array_function__ internals>\u001B[0m in \u001B[0;36mcopyto\u001B[1;34m(*args, **kwargs)\u001B[0m\n",
      "\u001B[1;31mKeyboardInterrupt\u001B[0m: "
     ]
    }
   ],
   "source": [
    "left_naming = {\n",
    "    \"l_valid\" : \"valid\",\n",
    "    \"l_display_x\" : \"display_x\",\n",
    "    \"l_display_y\" : \"display_y\",\n",
    "}\n",
    "\n",
    "right_naming = {\n",
    "    \"r_valid\" : \"valid\",\n",
    "    \"r_display_x\" : \"display_x\",\n",
    "    \"r_display_y\" : \"display_y\",\n",
    "}\n",
    "\n",
    "for idx in range(1, len(df_psycho)):\n",
    "    name = df_psycho[\"Snippet\"][idx]\n",
    "    image = images[name]\n",
    "    df_eye = df_eyetracking[(df_eyetracking[\"time\"] >= df_psycho[\"SnippetStart\"][idx]) & (df_eyetracking[\"time\"] < df_psycho[\"SnippetStop\"][idx])]\n",
    "    print(\"Working with\", name, \"...\")\n",
    "    for naming, color, eye in zip([left_naming, right_naming], [left_color, right_color], [\"Left Eye\", \"Right Eye\"]):\n",
    "        print(\"\\t\", eye, \"...\")\n",
    "        df_eye_tmp = df_eye.reset_index(drop=True)\n",
    "        df_eye_tmp = update_names(df_eye_tmp, naming)\n",
    "        df_eye_tmp = update_to_display_coordinates(df_eye_tmp)\n",
    "        df_eye_tmp = update_normalize_time(df_eye_tmp)\n",
    "        df_eye_tmp = update_replace_invalid(df_eye_tmp)\n",
    "        df_eye_tmp = update_denoise(df_eye_tmp, denoise_degree)\n",
    "\n",
    "        heat_mask = create_heatmap(df_eye_tmp, color, display_width, display_height)\n",
    "        sequence_mask = create_sequence_diagram(df_eye_tmp, color, display_width, display_height, 500)\n",
    "\n",
    "        snippet_folder = \"./results/\" + name + \"/\"\n",
    "        if not os.path.exists(snippet_folder):\n",
    "            os.makedirs(snippet_folder)\n",
    "\n",
    "\n",
    "        plt.imshow(image, zorder=0)\n",
    "        plt.imshow(heat_mask, zorder=1)\n",
    "        plt.savefig(snippet_folder + \"Heatmap_\" + eye + \".pdf\", dpi = 300)\n",
    "        plt.close()\n",
    "\n",
    "        plt.imshow(image, zorder=0)\n",
    "        plt.imshow(sequence_mask, zorder=1)\n",
    "        plt.savefig(snippet_folder + \"Sequence_\" + eye + \".pdf\", dpi = 300)\n",
    "        plt.close()"
   ]
  },
  {
   "cell_type": "code",
   "execution_count": null,
   "outputs": [],
   "source": [],
   "metadata": {
    "collapsed": false,
    "pycharm": {
     "name": "#%%\n"
    }
   }
  }
 ],
 "metadata": {
  "kernelspec": {
   "display_name": "Python 3",
   "language": "python",
   "name": "python3"
  },
  "language_info": {
   "codemirror_mode": {
    "name": "ipython",
    "version": 3
   },
   "file_extension": ".py",
   "mimetype": "text/x-python",
   "name": "python",
   "nbconvert_exporter": "python",
   "pygments_lexer": "ipython3",
   "version": "3.8.8"
  }
 },
 "nbformat": 4,
 "nbformat_minor": 5
}